{
 "cells": [
  {
   "cell_type": "code",
   "execution_count": 70,
   "id": "4e132fef",
   "metadata": {},
   "outputs": [],
   "source": [
    "import pandas as pd\n",
    "df_letters = pd.read_csv('data/all_letters.tsv',sep='\\t').drop('Unnamed: 0',axis=1) # remove \"drop\" if the column is not there"
   ]
  },
  {
   "cell_type": "code",
   "execution_count": 71,
   "id": "6b4daf87",
   "metadata": {},
   "outputs": [],
   "source": [
    "df_commodities = pd.read_csv('data/commodities.tsv',sep='\\t').drop('Unnamed: 0',axis=1)"
   ]
  },
  {
   "cell_type": "code",
   "execution_count": 72,
   "id": "a6de2b6a",
   "metadata": {},
   "outputs": [],
   "source": [
    "commodities = df_commodities.to_dict(orient='records')"
   ]
  },
  {
   "cell_type": "code",
   "execution_count": 73,
   "id": "548bcbfa",
   "metadata": {},
   "outputs": [],
   "source": [
    "import json"
   ]
  },
  {
   "cell_type": "code",
   "execution_count": 74,
   "id": "9a220c5e",
   "metadata": {},
   "outputs": [
    {
     "data": {
      "text/plain": [
       "'options:\\n        \"exact\": \"kaneel\" and \"kaneelstokjes\" won\\'t match (minimise false positives)\\n        \"broad\": \"gin\" and \"beginnen\" will match (minimise false negatives)\\n        \"left_only\": \"kaneel\" and \"kaneelstokjes\" match but \"gin\" and \"beginnen\" don\\'t (a middle ground)\\n'"
      ]
     },
     "execution_count": 74,
     "metadata": {},
     "output_type": "execute_result"
    }
   ],
   "source": [
    "global matching_mode\n",
    "'''options:\n",
    "        \"exact\": \"kaneel\" and \"kaneelstokjes\" won't match (minimise false positives)\n",
    "        \"broad\": \"gin\" and \"beginnen\" will match (minimise false negatives)\n",
    "        \"left_only\": \"kaneel\" and \"kaneelstokjes\" match but \"gin\" and \"beginnen\" don't (a middle ground)\n",
    "'''\n"
   ]
  },
  {
   "cell_type": "code",
   "execution_count": 75,
   "id": "e9e6060f",
   "metadata": {},
   "outputs": [],
   "source": [
    "def inside_another_word(text, start, end): # to avoid finding \"gin\" in \"beginnen\"\n",
    "    left = (start > 0) and text[start-1].isalpha()\n",
    "    right = (end < len(text)-1) and text[end+1].isalpha()\n",
    "    if matching_mode == 'left_only':\n",
    "        return left \n",
    "    return left or right\n",
    "\n",
    "def find_label(text, label):\n",
    "    start = text.find(label)\n",
    "    end = start + len(label) -1 # last character, same as spacy does\n",
    "    if start == -1:\n",
    "        return start\n",
    "    if matching_mode != 'broad' and inside_another_word(text, start, end):\n",
    "        return find_label(text[end:],label) # look further in the remaining part of the text\n",
    "    return start"
   ]
  },
  {
   "cell_type": "code",
   "execution_count": 76,
   "id": "8a0617aa",
   "metadata": {},
   "outputs": [
    {
     "data": {
      "text/plain": [
       "20"
      ]
     },
     "execution_count": 76,
     "metadata": {},
     "output_type": "execute_result"
    }
   ],
   "source": [
    "matching_mode = 'exact'\n",
    "find_label('We beginnen met een beetje gin', 'gin')"
   ]
  },
  {
   "cell_type": "code",
   "execution_count": 77,
   "id": "0541dff0",
   "metadata": {},
   "outputs": [],
   "source": [
    "def find_commodities(text): \n",
    "    res = {}\n",
    "    if type(text) != str:\n",
    "        return '{}'\n",
    "    for row in commodities:\n",
    "        concept_uri, labels = row['concept_uri'], row['labels']\n",
    "        for label in labels.split('; '):\n",
    "            if find_label(text.lower(), label.lower()) != -1: # slow but ok for now\n",
    "                if concept_uri in res:\n",
    "                    res[concept_uri].append(label)\n",
    "                else:\n",
    "                    res[concept_uri] = [label]\n",
    "\n",
    "    return json.dumps(res)"
   ]
  },
  {
   "cell_type": "code",
   "execution_count": 78,
   "id": "398e3331",
   "metadata": {},
   "outputs": [],
   "source": [
    "from tqdm.notebook import tqdm_notebook # progress bar\n",
    "tqdm_notebook.pandas()"
   ]
  },
  {
   "cell_type": "code",
   "execution_count": 79,
   "id": "91409a81",
   "metadata": {},
   "outputs": [
    {
     "data": {
      "application/vnd.jupyter.widget-view+json": {
       "model_id": "28f99b69a4ef479bb20539ec203f1f6f",
       "version_major": 2,
       "version_minor": 0
      },
      "text/plain": [
       "  0%|          | 0/607 [00:00<?, ?it/s]"
      ]
     },
     "metadata": {},
     "output_type": "display_data"
    },
    {
     "data": {
      "application/vnd.jupyter.widget-view+json": {
       "model_id": "60dfc027209f4dd78771f483046154e2",
       "version_major": 2,
       "version_minor": 0
      },
      "text/plain": [
       "  0%|          | 0/607 [00:00<?, ?it/s]"
      ]
     },
     "metadata": {},
     "output_type": "display_data"
    },
    {
     "data": {
      "application/vnd.jupyter.widget-view+json": {
       "model_id": "f61a161a982c4e7ebb4913075c42bb59",
       "version_major": 2,
       "version_minor": 0
      },
      "text/plain": [
       "  0%|          | 0/607 [00:00<?, ?it/s]"
      ]
     },
     "metadata": {},
     "output_type": "display_data"
    }
   ],
   "source": [
    "matching_mode = 'broad'\n",
    "df_letters['commodities_broad'] = df_letters['text'].progress_map(find_commodities)\n",
    "matching_mode = 'exact'\n",
    "df_letters['commodities_precise'] = df_letters['text'].progress_map(find_commodities)\n",
    "matching_mode = 'left_only'\n",
    "df_letters['commodities'] = df_letters['text'].progress_map(find_commodities)\n"
   ]
  },
  {
   "cell_type": "code",
   "execution_count": 80,
   "id": "73c9ba59",
   "metadata": {},
   "outputs": [
    {
     "data": {
      "text/plain": [
       "'{\"https://digitaalerfgoed.poolparty.biz/globalise/4a15fa9c-b390-49ea-9b4b-e247c2fb9d72\": [\"Rye\"], \"https://digitaalerfgoed.poolparty.biz/globalise/101316fc-b7d7-4460-aa6f-98827bb3bba8\": [\"Noot\"], \"https://digitaalerfgoed.poolparty.biz/globalise/8b40ffef-9d82-45d2-8b5b-2554edc6e754\": [\"nagel\", \"Kruidnagel\"], \"https://digitaalerfgoed.poolparty.biz/globalise/a60b5a4c-a015-4a96-a848-1b1022bed2b7\": [\"Was\"], \"https://digitaalerfgoed.poolparty.biz/globalise/7d5a258d-2095-4df5-b51f-540f859d5fb5\": [\"Bier\"], \"https://digitaalerfgoed.poolparty.biz/globalise/0dbe4d8e-7603-46f4-85bd-3cdd405d0909\": [\"Gin\"], \"https://digitaalerfgoed.poolparty.biz/globalise/377eb937-15e9-4b08-9338-48802dba3e5d\": [\"leech\", \"lijk\"], \"https://digitaalerfgoed.poolparty.biz/globalise/71dadcd6-78ae-45ac-811e-b0e4aefc18a0\": [\"leer\"], \"https://digitaalerfgoed.poolparty.biz/globalise/192a4e33-b6d0-40df-845c-4b6cfa5ea15b\": [\"serge\"], \"https://digitaalerfgoed.poolparty.biz/globalise/c0cd87a4-dd6c-46ee-9dfc-6570a190086f\": [\"ras\"], \"https://digitaalerfgoed.poolparty.biz/globalise/6bfebb97-0ce9-44d9-9be7-d2ede6eae05a\": [\"lont\"], \"https://digitaalerfgoed.poolparty.biz/globalise/ce9a8ba1-99a4-4e42-a6e7-080c72c02810\": [\"Rope\"], \"https://digitaalerfgoed.poolparty.biz/globalise/bce8d2b9-f1dd-4d9b-a9f4-c4cdf6776ab0\": [\"Steen\"], \"https://digitaalerfgoed.poolparty.biz/globalise/088fff40-6c34-45d3-a361-7bcc38945c2a\": [\"steel\"], \"https://digitaalerfgoed.poolparty.biz/globalise/33b9b97c-1c7f-40f3-9b36-b9f84134cded\": [\"Slave\"], \"https://digitaalerfgoed.poolparty.biz/globalise/ed7c1cd9-87e0-49bc-af98-63d7a5ea0637\": [\"Rok\"], \"https://digitaalerfgoed.poolparty.biz/globalise/24464146-db33-4d32-80fa-c12e50b7fafc\": [\"Pot\"], \"https://digitaalerfgoed.poolparty.biz/globalise/f091c9a4-9d69-474a-ba78-a06e74b5fbf9\": [\"Kist\"], \"https://digitaalerfgoed.poolparty.biz/globalise/b6199ddb-f712-4ee5-b988-e887c950a05c\": [\"Kas\"], \"https://digitaalerfgoed.poolparty.biz/globalise/a1c03373-6c8a-4788-8b33-a28320cafd94\": [\"Spaan\"], \"https://digitaalerfgoed.poolparty.biz/globalise/37d1cd22-6c47-4d84-b709-0373ef040c25\": [\"Mes\"], \"https://digitaalerfgoed.poolparty.biz/globalise/b51871ed-4692-4d08-97b7-51c877c46272\": [\"Boek\"], \"https://digitaalerfgoed.poolparty.biz/globalise/751261f0-ddaa-4fb0-be6d-4e0693a09170\": [\"Teer\"], \"https://digitaalerfgoed.poolparty.biz/globalise/2f32c3b2-887a-4802-968c-4461a2eb3bb6\": [\"Kast\"], \"https://digitaalerfgoed.poolparty.biz/globalise/d7e4dbb2-e132-48d1-9e18-96888fed8743\": [\"houw\"], \"https://digitaalerfgoed.poolparty.biz/globalise/ecfdfcb3-9e59-478a-8c09-13658bcbf315\": [\"Degen\"], \"https://digitaalerfgoed.poolparty.biz/globalise/ef4fa0f5-8d28-4763-95e6-3b7aa7a0ab30\": [\"sloep\"], \"https://digitaalerfgoed.poolparty.biz/globalise/0745666c-8272-4052-a0aa-c298a733673f\": [\"Deel\"], \"https://digitaalerfgoed.poolparty.biz/globalise/5bb49934-2481-457a-ab03-2358b65af393\": [\"Els\"], \"https://digitaalerfgoed.poolparty.biz/globalise/4ddc5f89-7500-4693-aca2-dd0670cac473\": [\"Hop\"], \"https://digitaalerfgoed.poolparty.biz/globalise/6a5c53b6-5af9-4173-9d09-d5294f25b53d\": [\"Lak\"], \"https://digitaalerfgoed.poolparty.biz/globalise/4fa1e7ff-6c3e-46ac-b22f-4f630092849b\": [\"Vis\"], \"https://digitaalerfgoed.poolparty.biz/globalise/fc66a54e-f99b-4125-9775-4714cb26bb13\": [\"Kan\"], \"https://digitaalerfgoed.poolparty.biz/globalise/dbf2f37f-c95e-48f2-a5e1-aeb8d8e1e33a\": [\"Stelling\"], \"https://digitaalerfgoed.poolparty.biz/globalise/511e4b40-26a7-4da2-b758-a57699c697d0\": [\"Schip\"], \"https://digitaalerfgoed.poolparty.biz/globalise/0f43d495-8a68-4f8c-ae3e-e2f7ec9c3b99\": [\"Mand\"], \"https://digitaalerfgoed.poolparty.biz/globalise/3622a21f-e9e5-4628-9221-99d824d316db\": [\"Want\"], \"https://digitaalerfgoed.poolparty.biz/globalise/630b883f-5467-47c1-a145-a6da2ee38b69\": [\"Doos\"], \"https://digitaalerfgoed.poolparty.biz/globalise/aa84fb39-e424-4bee-a1e0-cc96f72df7f3\": [\"Cup\"], \"https://digitaalerfgoed.poolparty.biz/globalise/18caa2b1-1c20-47fa-ab45-48df576c9479\": [\"bar\"], \"https://digitaalerfgoed.poolparty.biz/globalise/38150eae-6331-4399-ad39-6626250ad94a\": [\"Ton\"], \"https://digitaalerfgoed.poolparty.biz/globalise/24db4840-3c29-4bb5-b658-204d252741ec\": [\"Peren\"], \"https://digitaalerfgoed.poolparty.biz/globalise/b89b5e5a-5b47-4f39-bd2c-d43d5ad8484e\": [\"Mast\", \"mast\"], \"https://digitaalerfgoed.poolparty.biz/globalise/b02bf204-83e4-459a-8463-fca0a1711158\": [\"Band\"], \"https://digitaalerfgoed.poolparty.biz/globalise/f2768238-6cfc-40ab-a03a-cf95e3861b43\": [\"Mat\"], \"https://digitaalerfgoed.poolparty.biz/globalise/7fd93a0b-b57c-4fef-8194-2f2bfe866acf\": [\"Tan\"], \"https://digitaalerfgoed.poolparty.biz/globalise/ebad38f6-ad16-42ad-b26f-df42a0060f29\": [\"mand\"], \"https://digitaalerfgoed.poolparty.biz/globalise/83e58c6c-e48a-462b-8d04-a38b4685f5fa\": [\"boot\"], \"https://digitaalerfgoed.poolparty.biz/globalise/89058406-1464-46c2-bc55-cabc14593cf2\": [\"vrucht\"], \"https://digitaalerfgoed.poolparty.biz/globalise/ec6d4427-1ce3-41fa-ba9c-7333759a6a9b\": [\"gesp\"], \"https://digitaalerfgoed.poolparty.biz/globalise/e953f772-74b1-4b09-9840-c83d7bdd97ef\": [\"ui\"], \"https://digitaalerfgoed.poolparty.biz/globalise/9836454e-d5d4-4d35-be4f-6bdd167ac415\": [\"vel\"], \"https://digitaalerfgoed.poolparty.biz/globalise/f3a11dc4-1b89-4575-9ee2-096544cc1724\": [\"bus\"], \"https://digitaalerfgoed.poolparty.biz/globalise/0e6e54a9-23ae-49cb-a993-594778509b61\": [\"wortelen\"], \"https://digitaalerfgoed.poolparty.biz/globalise/156ad4db-20c2-4ec2-a286-a51f275be95f\": [\"akte\"], \"https://digitaalerfgoed.poolparty.biz/globalise/f671487f-9c4a-4a32-b7b0-359e4a5c2695\": [\"plaat\"], \"https://digitaalerfgoed.poolparty.biz/globalise/5cfa8fe9-65da-4bc7-bcef-fba105b4ceb8\": [\"roos\"], \"https://digitaalerfgoed.poolparty.biz/globalise/e745f151-189e-4dbe-85be-1799d28fff0d\": [\"geit\"], \"https://digitaalerfgoed.poolparty.biz/globalise/6f7e507a-8828-4901-964a-25b64590c03f\": [\"kers\"], \"https://digitaalerfgoed.poolparty.biz/globalise/4ab04550-9b02-491b-a693-855eb5175020\": [\"loop\"], \"https://digitaalerfgoed.poolparty.biz/globalise/bd758bbb-2373-4ef7-8b8e-c94375ab90d3\": [\"pers\"], \"https://digitaalerfgoed.poolparty.biz/globalise/7b356d1d-f441-4001-95b5-e89a9b1cfefd\": [\"boom\"], \"https://digitaalerfgoed.poolparty.biz/globalise/380bcb0a-f8ec-40ec-acdd-c47f34cf84ac\": [\"doos\"], \"https://digitaalerfgoed.poolparty.biz/globalise/08c18da1-3a50-4027-b742-5a07012033be\": [\"hals\"], \"https://digitaalerfgoed.poolparty.biz/globalise/ccc983e7-5346-4087-b9d2-b1250fbb08a4\": [\"slag\"], \"https://digitaalerfgoed.poolparty.biz/globalise/03b76eb9-74b4-4c3d-bf20-1ea5a86d2ecf\": [\"jongen\"], \"https://digitaalerfgoed.poolparty.biz/globalise/9ddb750a-3768-4450-993d-29f96e792e25\": [\"kaju\"], \"https://digitaalerfgoed.poolparty.biz/globalise/e13e06d0-9b54-4ace-af86-7bf6b8c31f57\": [\"kiel\"], \"https://digitaalerfgoed.poolparty.biz/globalise/0411f5a5-b8d1-4ebf-ba35-9411ed076c48\": [\"loper\"], \"https://digitaalerfgoed.poolparty.biz/globalise/ea4ab962-a4d2-4f69-b1e5-8cf5df7a8e03\": [\"eend\"], \"https://digitaalerfgoed.poolparty.biz/globalise/c9bd3449-fd7b-43ed-a1c9-e45e6cc810fa\": [\"erts\"], \"https://digitaalerfgoed.poolparty.biz/globalise/0c9ab582-b543-4942-ba2d-346d385414da\": [\"lei\"], \"https://digitaalerfgoed.poolparty.biz/globalise/36e1e3ec-5c46-4f14-b689-8c87066b42e8\": [\"mal\"], \"https://digitaalerfgoed.poolparty.biz/globalise/23d46dfd-e532-4dc0-a826-73a53a75015b\": [\"sabel\"], \"https://digitaalerfgoed.poolparty.biz/globalise/be15a846-3f3a-4ce6-8efe-7a2cbe1c0552\": [\"schap\"], \"https://digitaalerfgoed.poolparty.biz/globalise/52da131c-5cf6-47bd-9499-5c70e0e6af77\": [\"steel\"], \"https://digitaalerfgoed.poolparty.biz/globalise/1fdb5b03-fbed-4295-9cd9-410094d82816\": [\"veer\"], \"https://digitaalerfgoed.poolparty.biz/globalise/50be5d5b-caa2-4dbc-a0af-9836c0d8b6b8\": [\"vlag\"]}'"
      ]
     },
     "execution_count": 80,
     "metadata": {},
     "output_type": "execute_result"
    }
   ],
   "source": [
    "df_letters.iloc[3]['commodities_broad']"
   ]
  },
  {
   "cell_type": "code",
   "execution_count": 81,
   "id": "d0234ce8",
   "metadata": {},
   "outputs": [
    {
     "data": {
      "text/plain": [
       "'{\"https://digitaalerfgoed.poolparty.biz/globalise/101316fc-b7d7-4460-aa6f-98827bb3bba8\": [\"Noot\"], \"https://digitaalerfgoed.poolparty.biz/globalise/8b40ffef-9d82-45d2-8b5b-2554edc6e754\": [\"Kruidnagel\"], \"https://digitaalerfgoed.poolparty.biz/globalise/a60b5a4c-a015-4a96-a848-1b1022bed2b7\": [\"Was\"], \"https://digitaalerfgoed.poolparty.biz/globalise/71dadcd6-78ae-45ac-811e-b0e4aefc18a0\": [\"leer\"], \"https://digitaalerfgoed.poolparty.biz/globalise/192a4e33-b6d0-40df-845c-4b6cfa5ea15b\": [\"serge\"], \"https://digitaalerfgoed.poolparty.biz/globalise/c0cd87a4-dd6c-46ee-9dfc-6570a190086f\": [\"ras\"], \"https://digitaalerfgoed.poolparty.biz/globalise/6bfebb97-0ce9-44d9-9be7-d2ede6eae05a\": [\"lont\"], \"https://digitaalerfgoed.poolparty.biz/globalise/bce8d2b9-f1dd-4d9b-a9f4-c4cdf6776ab0\": [\"Steen\"], \"https://digitaalerfgoed.poolparty.biz/globalise/33b9b97c-1c7f-40f3-9b36-b9f84134cded\": [\"Slave\"], \"https://digitaalerfgoed.poolparty.biz/globalise/f091c9a4-9d69-474a-ba78-a06e74b5fbf9\": [\"Kist\"], \"https://digitaalerfgoed.poolparty.biz/globalise/b6199ddb-f712-4ee5-b988-e887c950a05c\": [\"Kas\"], \"https://digitaalerfgoed.poolparty.biz/globalise/a1c03373-6c8a-4788-8b33-a28320cafd94\": [\"Spaan\"], \"https://digitaalerfgoed.poolparty.biz/globalise/37d1cd22-6c47-4d84-b709-0373ef040c25\": [\"Mes\"], \"https://digitaalerfgoed.poolparty.biz/globalise/2f32c3b2-887a-4802-968c-4461a2eb3bb6\": [\"Kast\"], \"https://digitaalerfgoed.poolparty.biz/globalise/ef4fa0f5-8d28-4763-95e6-3b7aa7a0ab30\": [\"sloep\"], \"https://digitaalerfgoed.poolparty.biz/globalise/511e4b40-26a7-4da2-b758-a57699c697d0\": [\"Schip\"], \"https://digitaalerfgoed.poolparty.biz/globalise/3622a21f-e9e5-4628-9221-99d824d316db\": [\"Want\"], \"https://digitaalerfgoed.poolparty.biz/globalise/b89b5e5a-5b47-4f39-bd2c-d43d5ad8484e\": [\"Mast\", \"mast\"], \"https://digitaalerfgoed.poolparty.biz/globalise/b02bf204-83e4-459a-8463-fca0a1711158\": [\"Band\"], \"https://digitaalerfgoed.poolparty.biz/globalise/f2768238-6cfc-40ab-a03a-cf95e3861b43\": [\"Mat\"], \"https://digitaalerfgoed.poolparty.biz/globalise/83e58c6c-e48a-462b-8d04-a38b4685f5fa\": [\"boot\"], \"https://digitaalerfgoed.poolparty.biz/globalise/89058406-1464-46c2-bc55-cabc14593cf2\": [\"vrucht\"], \"https://digitaalerfgoed.poolparty.biz/globalise/ec6d4427-1ce3-41fa-ba9c-7333759a6a9b\": [\"gesp\"], \"https://digitaalerfgoed.poolparty.biz/globalise/e953f772-74b1-4b09-9840-c83d7bdd97ef\": [\"ui\"], \"https://digitaalerfgoed.poolparty.biz/globalise/9836454e-d5d4-4d35-be4f-6bdd167ac415\": [\"vel\"], \"https://digitaalerfgoed.poolparty.biz/globalise/0e6e54a9-23ae-49cb-a993-594778509b61\": [\"wortelen\"], \"https://digitaalerfgoed.poolparty.biz/globalise/f671487f-9c4a-4a32-b7b0-359e4a5c2695\": [\"plaat\"], \"https://digitaalerfgoed.poolparty.biz/globalise/e745f151-189e-4dbe-85be-1799d28fff0d\": [\"geit\"], \"https://digitaalerfgoed.poolparty.biz/globalise/4ab04550-9b02-491b-a693-855eb5175020\": [\"loop\"], \"https://digitaalerfgoed.poolparty.biz/globalise/bd758bbb-2373-4ef7-8b8e-c94375ab90d3\": [\"pers\"], \"https://digitaalerfgoed.poolparty.biz/globalise/7b356d1d-f441-4001-95b5-e89a9b1cfefd\": [\"boom\"], \"https://digitaalerfgoed.poolparty.biz/globalise/08c18da1-3a50-4027-b742-5a07012033be\": [\"hals\"], \"https://digitaalerfgoed.poolparty.biz/globalise/03b76eb9-74b4-4c3d-bf20-1ea5a86d2ecf\": [\"jongen\"], \"https://digitaalerfgoed.poolparty.biz/globalise/9ddb750a-3768-4450-993d-29f96e792e25\": [\"kaju\"], \"https://digitaalerfgoed.poolparty.biz/globalise/e13e06d0-9b54-4ace-af86-7bf6b8c31f57\": [\"kiel\"], \"https://digitaalerfgoed.poolparty.biz/globalise/36e1e3ec-5c46-4f14-b689-8c87066b42e8\": [\"mal\"], \"https://digitaalerfgoed.poolparty.biz/globalise/23d46dfd-e532-4dc0-a826-73a53a75015b\": [\"sabel\"], \"https://digitaalerfgoed.poolparty.biz/globalise/50be5d5b-caa2-4dbc-a0af-9836c0d8b6b8\": [\"vlag\"]}'"
      ]
     },
     "execution_count": 81,
     "metadata": {},
     "output_type": "execute_result"
    }
   ],
   "source": [
    "df_letters.iloc[3]['commodities']"
   ]
  },
  {
   "cell_type": "code",
   "execution_count": 82,
   "id": "67cd841b",
   "metadata": {},
   "outputs": [
    {
     "data": {
      "text/plain": [
       "'{\"https://digitaalerfgoed.poolparty.biz/globalise/101316fc-b7d7-4460-aa6f-98827bb3bba8\": [\"Noot\"], \"https://digitaalerfgoed.poolparty.biz/globalise/a60b5a4c-a015-4a96-a848-1b1022bed2b7\": [\"Was\"], \"https://digitaalerfgoed.poolparty.biz/globalise/bce8d2b9-f1dd-4d9b-a9f4-c4cdf6776ab0\": [\"Steen\"], \"https://digitaalerfgoed.poolparty.biz/globalise/33b9b97c-1c7f-40f3-9b36-b9f84134cded\": [\"Slave\"], \"https://digitaalerfgoed.poolparty.biz/globalise/ef4fa0f5-8d28-4763-95e6-3b7aa7a0ab30\": [\"sloep\"], \"https://digitaalerfgoed.poolparty.biz/globalise/511e4b40-26a7-4da2-b758-a57699c697d0\": [\"Schip\"], \"https://digitaalerfgoed.poolparty.biz/globalise/3622a21f-e9e5-4628-9221-99d824d316db\": [\"Want\"], \"https://digitaalerfgoed.poolparty.biz/globalise/b89b5e5a-5b47-4f39-bd2c-d43d5ad8484e\": [\"Mast\", \"mast\"], \"https://digitaalerfgoed.poolparty.biz/globalise/0e6e54a9-23ae-49cb-a993-594778509b61\": [\"wortelen\"], \"https://digitaalerfgoed.poolparty.biz/globalise/e745f151-189e-4dbe-85be-1799d28fff0d\": [\"geit\"], \"https://digitaalerfgoed.poolparty.biz/globalise/08c18da1-3a50-4027-b742-5a07012033be\": [\"hals\"], \"https://digitaalerfgoed.poolparty.biz/globalise/03b76eb9-74b4-4c3d-bf20-1ea5a86d2ecf\": [\"jongen\"], \"https://digitaalerfgoed.poolparty.biz/globalise/e13e06d0-9b54-4ace-af86-7bf6b8c31f57\": [\"kiel\"], \"https://digitaalerfgoed.poolparty.biz/globalise/23d46dfd-e532-4dc0-a826-73a53a75015b\": [\"sabel\"]}'"
      ]
     },
     "execution_count": 82,
     "metadata": {},
     "output_type": "execute_result"
    }
   ],
   "source": [
    "df_letters.iloc[3]['commodities_precise']"
   ]
  },
  {
   "cell_type": "code",
   "execution_count": 83,
   "id": "036debaa",
   "metadata": {},
   "outputs": [
    {
     "data": {
      "text/plain": [
       "'kruidnagelen in'"
      ]
     },
     "execution_count": 83,
     "metadata": {},
     "output_type": "execute_result"
    }
   ],
   "source": [
    "text = df_letters.iloc[3]['text']\n",
    "start = text.lower().find('kruidnagel')\n",
    "text[start:start+15]"
   ]
  },
  {
   "cell_type": "code",
   "execution_count": 84,
   "id": "eab58403",
   "metadata": {},
   "outputs": [],
   "source": [
    "df_letters.to_csv('letters_with_commodities.tsv',sep='\\t',index=False)"
   ]
  },
  {
   "cell_type": "code",
   "execution_count": 85,
   "id": "c67d9ead",
   "metadata": {},
   "outputs": [
    {
     "data": {
      "text/html": [
       "<div>\n",
       "<style scoped>\n",
       "    .dataframe tbody tr th:only-of-type {\n",
       "        vertical-align: middle;\n",
       "    }\n",
       "\n",
       "    .dataframe tbody tr th {\n",
       "        vertical-align: top;\n",
       "    }\n",
       "\n",
       "    .dataframe thead th {\n",
       "        text-align: right;\n",
       "    }\n",
       "</style>\n",
       "<table border=\"1\" class=\"dataframe\">\n",
       "  <thead>\n",
       "    <tr style=\"text-align: right;\">\n",
       "      <th></th>\n",
       "      <th>page</th>\n",
       "      <th>title</th>\n",
       "      <th>rawdate</th>\n",
       "      <th>seq</th>\n",
       "      <th>place</th>\n",
       "      <th>year</th>\n",
       "      <th>month</th>\n",
       "      <th>day</th>\n",
       "      <th>author</th>\n",
       "      <th>pid</th>\n",
       "      <th>status</th>\n",
       "      <th>authorFull</th>\n",
       "      <th>text</th>\n",
       "      <th>rest</th>\n",
       "      <th>commodities_broad</th>\n",
       "      <th>commodities_precise</th>\n",
       "      <th>commodities</th>\n",
       "    </tr>\n",
       "  </thead>\n",
       "  <tbody>\n",
       "    <tr>\n",
       "      <th>0</th>\n",
       "      <td>3</td>\n",
       "      <td>Both; aan boord van het Wapen van Amsterdam vo...</td>\n",
       "      <td>25 februari 1610</td>\n",
       "      <td>I</td>\n",
       "      <td>aan boord van het Wapen van Amsterdam voor Ile...</td>\n",
       "      <td>1610.0</td>\n",
       "      <td>2.0</td>\n",
       "      <td>25.0</td>\n",
       "      <td>Both</td>\n",
       "      <td>NaN</td>\n",
       "      <td>NaN</td>\n",
       "      <td>Pieter Both</td>\n",
       "      <td>«Scheepshericht, vnl. handelend over uitgedeel...</td>\n",
       "      <td>NaN</td>\n",
       "      <td>{\"https://digitaalerfgoed.poolparty.biz/global...</td>\n",
       "      <td>{}</td>\n",
       "      <td>{\"https://digitaalerfgoed.poolparty.biz/global...</td>\n",
       "    </tr>\n",
       "    <tr>\n",
       "      <th>1</th>\n",
       "      <td>3</td>\n",
       "      <td>Both; aan boord van het Wapen van Amsterdam li...</td>\n",
       "      <td>6 augustus 1610</td>\n",
       "      <td>II</td>\n",
       "      <td>aan boord van het Wapen van Amsterdam liggende...</td>\n",
       "      <td>1610.0</td>\n",
       "      <td>8.0</td>\n",
       "      <td>6.0</td>\n",
       "      <td>Both</td>\n",
       "      <td>NaN</td>\n",
       "      <td>NaN</td>\n",
       "      <td>Pieter Both</td>\n",
       "      <td>«„Journaelsgewijse\" reisbeschrijving »</td>\n",
       "      <td>NaN</td>\n",
       "      <td>{\"https://digitaalerfgoed.poolparty.biz/global...</td>\n",
       "      <td>{}</td>\n",
       "      <td>{}</td>\n",
       "    </tr>\n",
       "    <tr>\n",
       "      <th>2</th>\n",
       "      <td>3</td>\n",
       "      <td>Both; aan boord van het Wapen van Amsterdam te...</td>\n",
       "      <td>14 oktober 1610</td>\n",
       "      <td>III</td>\n",
       "      <td>aan boord van het Wapen van Amsterdam ter Rede...</td>\n",
       "      <td>1610.0</td>\n",
       "      <td>10.0</td>\n",
       "      <td>14.0</td>\n",
       "      <td>Both</td>\n",
       "      <td>NaN</td>\n",
       "      <td>NaN</td>\n",
       "      <td>Pieter Both</td>\n",
       "      <td>«De inhoud van deze brief is evenmin als die v...</td>\n",
       "      <td>NaN</td>\n",
       "      <td>{}</td>\n",
       "      <td>{}</td>\n",
       "      <td>{}</td>\n",
       "    </tr>\n",
       "    <tr>\n",
       "      <th>3</th>\n",
       "      <td>4</td>\n",
       "      <td>Both; Kasteel Nassau op Banda-Neira, 18 juli 1611</td>\n",
       "      <td>18 juli 1611</td>\n",
       "      <td>IV</td>\n",
       "      <td>Kasteel Nassau op Banda-Neira</td>\n",
       "      <td>1611.0</td>\n",
       "      <td>7.0</td>\n",
       "      <td>18.0</td>\n",
       "      <td>Both</td>\n",
       "      <td>NaN</td>\n",
       "      <td>NaN</td>\n",
       "      <td>Pieter Both</td>\n",
       "      <td>. . . Principaelijck besich geweest in ’t opbo...</td>\n",
       "      <td>NaN</td>\n",
       "      <td>{\"https://digitaalerfgoed.poolparty.biz/global...</td>\n",
       "      <td>{\"https://digitaalerfgoed.poolparty.biz/global...</td>\n",
       "      <td>{\"https://digitaalerfgoed.poolparty.biz/global...</td>\n",
       "    </tr>\n",
       "    <tr>\n",
       "      <th>4</th>\n",
       "      <td>7</td>\n",
       "      <td>Both; aan boord van de Vere voor Maleyo, 31 ma...</td>\n",
       "      <td>31 maart 1612</td>\n",
       "      <td>V</td>\n",
       "      <td>aan boord van de Vere voor Maleyo</td>\n",
       "      <td>1612.0</td>\n",
       "      <td>3.0</td>\n",
       "      <td>31.0</td>\n",
       "      <td>Both</td>\n",
       "      <td>NaN</td>\n",
       "      <td>NaN</td>\n",
       "      <td>Pieter Both</td>\n",
       "      <td>Mijn advys soude oock sijn, dat U E geen licht...</td>\n",
       "      <td>NaN</td>\n",
       "      <td>{\"https://digitaalerfgoed.poolparty.biz/global...</td>\n",
       "      <td>{\"https://digitaalerfgoed.poolparty.biz/global...</td>\n",
       "      <td>{\"https://digitaalerfgoed.poolparty.biz/global...</td>\n",
       "    </tr>\n",
       "    <tr>\n",
       "      <th>...</th>\n",
       "      <td>...</td>\n",
       "      <td>...</td>\n",
       "      <td>...</td>\n",
       "      <td>...</td>\n",
       "      <td>...</td>\n",
       "      <td>...</td>\n",
       "      <td>...</td>\n",
       "      <td>...</td>\n",
       "      <td>...</td>\n",
       "      <td>...</td>\n",
       "      <td>...</td>\n",
       "      <td>...</td>\n",
       "      <td>...</td>\n",
       "      <td>...</td>\n",
       "      <td>...</td>\n",
       "      <td>...</td>\n",
       "      <td>...</td>\n",
       "    </tr>\n",
       "    <tr>\n",
       "      <th>602</th>\n",
       "      <td>745</td>\n",
       "      <td>Van der Parra, Van Riemsdijk, Schreuder, Van B...</td>\n",
       "      <td>31 december 1765</td>\n",
       "      <td>XIV</td>\n",
       "      <td>Batavia</td>\n",
       "      <td>1765.0</td>\n",
       "      <td>12.0</td>\n",
       "      <td>31.0</td>\n",
       "      <td>Van der Parra, Van Riemsdijk, Schreuder, Van B...</td>\n",
       "      <td>NaN</td>\n",
       "      <td>NaN</td>\n",
       "      <td>Petrus Albertus van der Parra, Jeremias van Ri...</td>\n",
       "      <td>NaN</td>\n",
       "      <td>NaN</td>\n",
       "      <td>{}</td>\n",
       "      <td>{}</td>\n",
       "      <td>{}</td>\n",
       "    </tr>\n",
       "    <tr>\n",
       "      <th>603</th>\n",
       "      <td>883</td>\n",
       "      <td>Van der Parra, Van Riemsdijk, Schreuder, Van B...</td>\n",
       "      <td>8 april 1766</td>\n",
       "      <td>XV</td>\n",
       "      <td>Batavia</td>\n",
       "      <td>1766.0</td>\n",
       "      <td>4.0</td>\n",
       "      <td>8.0</td>\n",
       "      <td>Van der Parra, Van Riemsdijk, Schreuder, Van B...</td>\n",
       "      <td>NaN</td>\n",
       "      <td>NaN</td>\n",
       "      <td>Petrus Albertus van der Parra, Jeremias van Ri...</td>\n",
       "      <td>Nadat het tweede gezandschap op Colombo aangek...</td>\n",
       "      <td>NaN</td>\n",
       "      <td>{\"https://digitaalerfgoed.poolparty.biz/global...</td>\n",
       "      <td>{\"https://digitaalerfgoed.poolparty.biz/global...</td>\n",
       "      <td>{\"https://digitaalerfgoed.poolparty.biz/global...</td>\n",
       "    </tr>\n",
       "    <tr>\n",
       "      <th>604</th>\n",
       "      <td>893</td>\n",
       "      <td>Van der Parra, Van Riemsdijk, Schreuder, Van B...</td>\n",
       "      <td>21 oktober 1766</td>\n",
       "      <td>XVI</td>\n",
       "      <td>Batavia</td>\n",
       "      <td>1766.0</td>\n",
       "      <td>10.0</td>\n",
       "      <td>21.0</td>\n",
       "      <td>Van der Parra, Van Riemsdijk, Schreuder, Van B...</td>\n",
       "      <td>NaN</td>\n",
       "      <td>NaN</td>\n",
       "      <td>Petrus Albertus van der Parra, Jeremias van Ri...</td>\n",
       "      <td>NaN</td>\n",
       "      <td>NaN</td>\n",
       "      <td>{}</td>\n",
       "      <td>{}</td>\n",
       "      <td>{}</td>\n",
       "    </tr>\n",
       "    <tr>\n",
       "      <th>605</th>\n",
       "      <td>943</td>\n",
       "      <td>Van der Parra, Van Riemsdijk, Schreuder, Van B...</td>\n",
       "      <td>31 december 1766</td>\n",
       "      <td>XVII</td>\n",
       "      <td>Batavia</td>\n",
       "      <td>1766.0</td>\n",
       "      <td>12.0</td>\n",
       "      <td>31.0</td>\n",
       "      <td>Van der Parra, Van Riemsdijk, Schreuder, Van B...</td>\n",
       "      <td>NaN</td>\n",
       "      <td>NaN</td>\n",
       "      <td>Petrus Albertus van der Parra, Jeremias van Ri...</td>\n",
       "      <td>NaN</td>\n",
       "      <td>NaN</td>\n",
       "      <td>{}</td>\n",
       "      <td>{}</td>\n",
       "      <td>{}</td>\n",
       "    </tr>\n",
       "    <tr>\n",
       "      <th>606</th>\n",
       "      <td>1063</td>\n",
       "      <td>Van der Parra, Van Riemsdijk, Schreuder, Van B...</td>\n",
       "      <td>15 mei 1767</td>\n",
       "      <td>XVIII</td>\n",
       "      <td>Batavia</td>\n",
       "      <td>1767.0</td>\n",
       "      <td>5.0</td>\n",
       "      <td>15.0</td>\n",
       "      <td>Van der Parra, Van Riemsdijk, Schreuder, Van B...</td>\n",
       "      <td>NaN</td>\n",
       "      <td>NaN</td>\n",
       "      <td>Petrus Albertus van der Parra, Jeremias van Ri...</td>\n",
       "      <td>NaN</td>\n",
       "      <td>NaN</td>\n",
       "      <td>{}</td>\n",
       "      <td>{}</td>\n",
       "      <td>{}</td>\n",
       "    </tr>\n",
       "  </tbody>\n",
       "</table>\n",
       "<p>607 rows × 17 columns</p>\n",
       "</div>"
      ],
      "text/plain": [
       "     page                                              title  \\\n",
       "0       3  Both; aan boord van het Wapen van Amsterdam vo...   \n",
       "1       3  Both; aan boord van het Wapen van Amsterdam li...   \n",
       "2       3  Both; aan boord van het Wapen van Amsterdam te...   \n",
       "3       4  Both; Kasteel Nassau op Banda-Neira, 18 juli 1611   \n",
       "4       7  Both; aan boord van de Vere voor Maleyo, 31 ma...   \n",
       "..    ...                                                ...   \n",
       "602   745  Van der Parra, Van Riemsdijk, Schreuder, Van B...   \n",
       "603   883  Van der Parra, Van Riemsdijk, Schreuder, Van B...   \n",
       "604   893  Van der Parra, Van Riemsdijk, Schreuder, Van B...   \n",
       "605   943  Van der Parra, Van Riemsdijk, Schreuder, Van B...   \n",
       "606  1063  Van der Parra, Van Riemsdijk, Schreuder, Van B...   \n",
       "\n",
       "              rawdate    seq  \\\n",
       "0    25 februari 1610      I   \n",
       "1     6 augustus 1610     II   \n",
       "2     14 oktober 1610    III   \n",
       "3        18 juli 1611     IV   \n",
       "4       31 maart 1612      V   \n",
       "..                ...    ...   \n",
       "602  31 december 1765    XIV   \n",
       "603      8 april 1766     XV   \n",
       "604   21 oktober 1766    XVI   \n",
       "605  31 december 1766   XVII   \n",
       "606       15 mei 1767  XVIII   \n",
       "\n",
       "                                                 place    year  month   day  \\\n",
       "0    aan boord van het Wapen van Amsterdam voor Ile...  1610.0    2.0  25.0   \n",
       "1    aan boord van het Wapen van Amsterdam liggende...  1610.0    8.0   6.0   \n",
       "2    aan boord van het Wapen van Amsterdam ter Rede...  1610.0   10.0  14.0   \n",
       "3                        Kasteel Nassau op Banda-Neira  1611.0    7.0  18.0   \n",
       "4                    aan boord van de Vere voor Maleyo  1612.0    3.0  31.0   \n",
       "..                                                 ...     ...    ...   ...   \n",
       "602                                            Batavia  1765.0   12.0  31.0   \n",
       "603                                            Batavia  1766.0    4.0   8.0   \n",
       "604                                            Batavia  1766.0   10.0  21.0   \n",
       "605                                            Batavia  1766.0   12.0  31.0   \n",
       "606                                            Batavia  1767.0    5.0  15.0   \n",
       "\n",
       "                                                author  pid status  \\\n",
       "0                                                 Both  NaN    NaN   \n",
       "1                                                 Both  NaN    NaN   \n",
       "2                                                 Both  NaN    NaN   \n",
       "3                                                 Both  NaN    NaN   \n",
       "4                                                 Both  NaN    NaN   \n",
       "..                                                 ...  ...    ...   \n",
       "602  Van der Parra, Van Riemsdijk, Schreuder, Van B...  NaN    NaN   \n",
       "603  Van der Parra, Van Riemsdijk, Schreuder, Van B...  NaN    NaN   \n",
       "604  Van der Parra, Van Riemsdijk, Schreuder, Van B...  NaN    NaN   \n",
       "605  Van der Parra, Van Riemsdijk, Schreuder, Van B...  NaN    NaN   \n",
       "606  Van der Parra, Van Riemsdijk, Schreuder, Van B...  NaN    NaN   \n",
       "\n",
       "                                            authorFull  \\\n",
       "0                                          Pieter Both   \n",
       "1                                          Pieter Both   \n",
       "2                                          Pieter Both   \n",
       "3                                          Pieter Both   \n",
       "4                                          Pieter Both   \n",
       "..                                                 ...   \n",
       "602  Petrus Albertus van der Parra, Jeremias van Ri...   \n",
       "603  Petrus Albertus van der Parra, Jeremias van Ri...   \n",
       "604  Petrus Albertus van der Parra, Jeremias van Ri...   \n",
       "605  Petrus Albertus van der Parra, Jeremias van Ri...   \n",
       "606  Petrus Albertus van der Parra, Jeremias van Ri...   \n",
       "\n",
       "                                                  text  rest  \\\n",
       "0    «Scheepshericht, vnl. handelend over uitgedeel...   NaN   \n",
       "1               «„Journaelsgewijse\" reisbeschrijving »   NaN   \n",
       "2    «De inhoud van deze brief is evenmin als die v...   NaN   \n",
       "3    . . . Principaelijck besich geweest in ’t opbo...   NaN   \n",
       "4    Mijn advys soude oock sijn, dat U E geen licht...   NaN   \n",
       "..                                                 ...   ...   \n",
       "602                                                NaN   NaN   \n",
       "603  Nadat het tweede gezandschap op Colombo aangek...   NaN   \n",
       "604                                                NaN   NaN   \n",
       "605                                                NaN   NaN   \n",
       "606                                                NaN   NaN   \n",
       "\n",
       "                                     commodities_broad  \\\n",
       "0    {\"https://digitaalerfgoed.poolparty.biz/global...   \n",
       "1    {\"https://digitaalerfgoed.poolparty.biz/global...   \n",
       "2                                                   {}   \n",
       "3    {\"https://digitaalerfgoed.poolparty.biz/global...   \n",
       "4    {\"https://digitaalerfgoed.poolparty.biz/global...   \n",
       "..                                                 ...   \n",
       "602                                                 {}   \n",
       "603  {\"https://digitaalerfgoed.poolparty.biz/global...   \n",
       "604                                                 {}   \n",
       "605                                                 {}   \n",
       "606                                                 {}   \n",
       "\n",
       "                                   commodities_precise  \\\n",
       "0                                                   {}   \n",
       "1                                                   {}   \n",
       "2                                                   {}   \n",
       "3    {\"https://digitaalerfgoed.poolparty.biz/global...   \n",
       "4    {\"https://digitaalerfgoed.poolparty.biz/global...   \n",
       "..                                                 ...   \n",
       "602                                                 {}   \n",
       "603  {\"https://digitaalerfgoed.poolparty.biz/global...   \n",
       "604                                                 {}   \n",
       "605                                                 {}   \n",
       "606                                                 {}   \n",
       "\n",
       "                                           commodities  \n",
       "0    {\"https://digitaalerfgoed.poolparty.biz/global...  \n",
       "1                                                   {}  \n",
       "2                                                   {}  \n",
       "3    {\"https://digitaalerfgoed.poolparty.biz/global...  \n",
       "4    {\"https://digitaalerfgoed.poolparty.biz/global...  \n",
       "..                                                 ...  \n",
       "602                                                 {}  \n",
       "603  {\"https://digitaalerfgoed.poolparty.biz/global...  \n",
       "604                                                 {}  \n",
       "605                                                 {}  \n",
       "606                                                 {}  \n",
       "\n",
       "[607 rows x 17 columns]"
      ]
     },
     "execution_count": 85,
     "metadata": {},
     "output_type": "execute_result"
    }
   ],
   "source": [
    "df_letters"
   ]
  },
  {
   "cell_type": "code",
   "execution_count": null,
   "id": "b2f63ffe",
   "metadata": {},
   "outputs": [],
   "source": []
  },
  {
   "cell_type": "code",
   "execution_count": null,
   "id": "1c4c12c9",
   "metadata": {},
   "outputs": [],
   "source": []
  }
 ],
 "metadata": {
  "kernelspec": {
   "display_name": "Python 3 (ipykernel)",
   "language": "python",
   "name": "python3"
  },
  "language_info": {
   "codemirror_mode": {
    "name": "ipython",
    "version": 3
   },
   "file_extension": ".py",
   "mimetype": "text/x-python",
   "name": "python",
   "nbconvert_exporter": "python",
   "pygments_lexer": "ipython3",
   "version": "3.12.1"
  }
 },
 "nbformat": 4,
 "nbformat_minor": 5
}
